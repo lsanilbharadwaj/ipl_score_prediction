{
 "cells": [
  {
   "cell_type": "code",
   "execution_count": 1,
   "metadata": {},
   "outputs": [],
   "source": [
    "import pandas as pd\n",
    "import seaborn as sns\n",
    "import matplotlib.pyplot as plt\n",
    "from sklearn import metrics\n",
    "import numpy as np\n",
    "import pickle"
   ]
  },
  {
   "cell_type": "code",
   "execution_count": 2,
   "metadata": {},
   "outputs": [],
   "source": [
    "df=pd.read_csv('new_ipl.csv')\n",
    "pd.set_option('display.max_columns', None)\n",
    "pd.set_option('display.max_rows', None)"
   ]
  },
  {
   "cell_type": "code",
   "execution_count": 3,
   "metadata": {},
   "outputs": [
    {
     "data": {
      "text/html": [
       "<div>\n",
       "<style scoped>\n",
       "    .dataframe tbody tr th:only-of-type {\n",
       "        vertical-align: middle;\n",
       "    }\n",
       "\n",
       "    .dataframe tbody tr th {\n",
       "        vertical-align: top;\n",
       "    }\n",
       "\n",
       "    .dataframe thead th {\n",
       "        text-align: right;\n",
       "    }\n",
       "</style>\n",
       "<table border=\"1\" class=\"dataframe\">\n",
       "  <thead>\n",
       "    <tr style=\"text-align: right;\">\n",
       "      <th></th>\n",
       "      <th>Unnamed: 0</th>\n",
       "      <th>match_id</th>\n",
       "      <th>inning</th>\n",
       "      <th>batting_team</th>\n",
       "      <th>bowling_team</th>\n",
       "      <th>delivery</th>\n",
       "      <th>runs</th>\n",
       "      <th>wicket</th>\n",
       "      <th>innings_total</th>\n",
       "      <th>city</th>\n",
       "      <th>venue</th>\n",
       "      <th>last_4overs_wickets</th>\n",
       "      <th>last_4overs_runs</th>\n",
       "    </tr>\n",
       "  </thead>\n",
       "  <tbody>\n",
       "    <tr>\n",
       "      <th>0</th>\n",
       "      <td>0</td>\n",
       "      <td>1</td>\n",
       "      <td>1</td>\n",
       "      <td>Sunrisers Hyderabad</td>\n",
       "      <td>Royal Challengers Bangalore</td>\n",
       "      <td>0.1</td>\n",
       "      <td>0</td>\n",
       "      <td>0</td>\n",
       "      <td>207</td>\n",
       "      <td>Hyderabad</td>\n",
       "      <td>Rajiv Gandhi International Stadium, Uppal</td>\n",
       "      <td>0</td>\n",
       "      <td>0</td>\n",
       "    </tr>\n",
       "    <tr>\n",
       "      <th>1</th>\n",
       "      <td>1</td>\n",
       "      <td>1</td>\n",
       "      <td>1</td>\n",
       "      <td>Sunrisers Hyderabad</td>\n",
       "      <td>Royal Challengers Bangalore</td>\n",
       "      <td>0.2</td>\n",
       "      <td>0</td>\n",
       "      <td>0</td>\n",
       "      <td>207</td>\n",
       "      <td>Hyderabad</td>\n",
       "      <td>Rajiv Gandhi International Stadium, Uppal</td>\n",
       "      <td>0</td>\n",
       "      <td>0</td>\n",
       "    </tr>\n",
       "    <tr>\n",
       "      <th>2</th>\n",
       "      <td>2</td>\n",
       "      <td>1</td>\n",
       "      <td>1</td>\n",
       "      <td>Sunrisers Hyderabad</td>\n",
       "      <td>Royal Challengers Bangalore</td>\n",
       "      <td>0.3</td>\n",
       "      <td>4</td>\n",
       "      <td>0</td>\n",
       "      <td>207</td>\n",
       "      <td>Hyderabad</td>\n",
       "      <td>Rajiv Gandhi International Stadium, Uppal</td>\n",
       "      <td>0</td>\n",
       "      <td>0</td>\n",
       "    </tr>\n",
       "    <tr>\n",
       "      <th>3</th>\n",
       "      <td>3</td>\n",
       "      <td>1</td>\n",
       "      <td>1</td>\n",
       "      <td>Sunrisers Hyderabad</td>\n",
       "      <td>Royal Challengers Bangalore</td>\n",
       "      <td>0.4</td>\n",
       "      <td>0</td>\n",
       "      <td>0</td>\n",
       "      <td>207</td>\n",
       "      <td>Hyderabad</td>\n",
       "      <td>Rajiv Gandhi International Stadium, Uppal</td>\n",
       "      <td>0</td>\n",
       "      <td>0</td>\n",
       "    </tr>\n",
       "    <tr>\n",
       "      <th>4</th>\n",
       "      <td>4</td>\n",
       "      <td>1</td>\n",
       "      <td>1</td>\n",
       "      <td>Sunrisers Hyderabad</td>\n",
       "      <td>Royal Challengers Bangalore</td>\n",
       "      <td>0.5</td>\n",
       "      <td>2</td>\n",
       "      <td>0</td>\n",
       "      <td>207</td>\n",
       "      <td>Hyderabad</td>\n",
       "      <td>Rajiv Gandhi International Stadium, Uppal</td>\n",
       "      <td>0</td>\n",
       "      <td>0</td>\n",
       "    </tr>\n",
       "  </tbody>\n",
       "</table>\n",
       "</div>"
      ],
      "text/plain": [
       "   Unnamed: 0  match_id  inning         batting_team  \\\n",
       "0           0         1       1  Sunrisers Hyderabad   \n",
       "1           1         1       1  Sunrisers Hyderabad   \n",
       "2           2         1       1  Sunrisers Hyderabad   \n",
       "3           3         1       1  Sunrisers Hyderabad   \n",
       "4           4         1       1  Sunrisers Hyderabad   \n",
       "\n",
       "                  bowling_team  delivery  runs  wicket  innings_total  \\\n",
       "0  Royal Challengers Bangalore       0.1     0       0            207   \n",
       "1  Royal Challengers Bangalore       0.2     0       0            207   \n",
       "2  Royal Challengers Bangalore       0.3     4       0            207   \n",
       "3  Royal Challengers Bangalore       0.4     0       0            207   \n",
       "4  Royal Challengers Bangalore       0.5     2       0            207   \n",
       "\n",
       "        city                                      venue  last_4overs_wickets  \\\n",
       "0  Hyderabad  Rajiv Gandhi International Stadium, Uppal                    0   \n",
       "1  Hyderabad  Rajiv Gandhi International Stadium, Uppal                    0   \n",
       "2  Hyderabad  Rajiv Gandhi International Stadium, Uppal                    0   \n",
       "3  Hyderabad  Rajiv Gandhi International Stadium, Uppal                    0   \n",
       "4  Hyderabad  Rajiv Gandhi International Stadium, Uppal                    0   \n",
       "\n",
       "   last_4overs_runs  \n",
       "0                 0  \n",
       "1                 0  \n",
       "2                 0  \n",
       "3                 0  \n",
       "4                 0  "
      ]
     },
     "execution_count": 3,
     "metadata": {},
     "output_type": "execute_result"
    }
   ],
   "source": [
    "df.head()"
   ]
  },
  {
   "cell_type": "code",
   "execution_count": 4,
   "metadata": {},
   "outputs": [
    {
     "data": {
      "text/plain": [
       "array(['Rajiv Gandhi International Stadium, Uppal',\n",
       "       'Maharashtra Cricket Association Stadium',\n",
       "       'Saurashtra Cricket Association Stadium', 'Holkar Cricket Stadium',\n",
       "       'M Chinnaswamy Stadium', 'Wankhede Stadium', 'Eden Gardens',\n",
       "       'Feroz Shah Kotla',\n",
       "       'Punjab Cricket Association IS Bindra Stadium, Mohali',\n",
       "       'Green Park', 'Punjab Cricket Association Stadium, Mohali',\n",
       "       'Sawai Mansingh Stadium', 'MA Chidambaram Stadium, Chepauk',\n",
       "       'Dr DY Patil Sports Academy', 'Newlands', \"St George's Park\",\n",
       "       'Kingsmead', 'SuperSport Park', 'Buffalo Park',\n",
       "       'New Wanderers Stadium', 'De Beers Diamond Oval',\n",
       "       'OUTsurance Oval', 'Brabourne Stadium',\n",
       "       'Sardar Patel Stadium, Motera', 'Barabati Stadium',\n",
       "       'Vidarbha Cricket Association Stadium, Jamtha',\n",
       "       'Himachal Pradesh Cricket Association Stadium', 'Nehru Stadium',\n",
       "       'Dr. Y.S. Rajasekhara Reddy ACA-VDCA Cricket Stadium',\n",
       "       'Subrata Roy Sahara Stadium',\n",
       "       'Shaheed Veer Narayan Singh International Stadium',\n",
       "       'JSCA International Stadium Complex', 'Sheikh Zayed Stadium',\n",
       "       'Sharjah Cricket Stadium', 'Dubai International Cricket Stadium',\n",
       "       'M. A. Chidambaram Stadium', 'Feroz Shah Kotla Ground',\n",
       "       'M. Chinnaswamy Stadium', 'Rajiv Gandhi Intl. Cricket Stadium',\n",
       "       'IS Bindra Stadium', 'ACA-VDCA Stadium'], dtype=object)"
      ]
     },
     "execution_count": 4,
     "metadata": {},
     "output_type": "execute_result"
    }
   ],
   "source": [
    "df['venue'].unique()"
   ]
  },
  {
   "cell_type": "code",
   "execution_count": 5,
   "metadata": {},
   "outputs": [
    {
     "data": {
      "text/plain": [
       "Eden Gardens                                            17991\n",
       "Wankhede Stadium                                        17590\n",
       "M Chinnaswamy Stadium                                   16872\n",
       "Feroz Shah Kotla                                        15604\n",
       "Rajiv Gandhi International Stadium, Uppal               13303\n",
       "MA Chidambaram Stadium, Chepauk                         12006\n",
       "Sawai Mansingh Stadium                                  11158\n",
       "Punjab Cricket Association Stadium, Mohali               8266\n",
       "Maharashtra Cricket Association Stadium                  5055\n",
       "Subrata Roy Sahara Stadium                               4064\n",
       "Dr DY Patil Sports Academy                               3993\n",
       "Kingsmead                                                3643\n",
       "Punjab Cricket Association IS Bindra Stadium, Mohali     3315\n",
       "Sardar Patel Stadium, Motera                             2893\n",
       "SuperSport Park                                          2866\n",
       "Brabourne Stadium                                        2719\n",
       "Dr. Y.S. Rajasekhara Reddy ACA-VDCA Cricket Stadium      2546\n",
       "Saurashtra Cricket Association Stadium                   2381\n",
       "Himachal Pradesh Cricket Association Stadium             2159\n",
       "Holkar Cricket Stadium                                   1965\n",
       "New Wanderers Stadium                                    1940\n",
       "Rajiv Gandhi Intl. Cricket Stadium                       1912\n",
       "M. A. Chidambaram Stadium                                1889\n",
       "Feroz Shah Kotla Ground                                  1701\n",
       "Dubai International Cricket Stadium                      1700\n",
       "Barabati Stadium                                         1695\n",
       "IS Bindra Stadium                                        1690\n",
       "St George's Park                                         1677\n",
       "JSCA International Stadium Complex                       1671\n",
       "Sheikh Zayed Stadium                                     1624\n",
       "Newlands                                                 1539\n",
       "M. Chinnaswamy Stadium                                   1531\n",
       "Sharjah Cricket Stadium                                  1439\n",
       "Shaheed Veer Narayan Singh International Stadium         1431\n",
       "Nehru Stadium                                            1155\n",
       "Green Park                                                921\n",
       "Vidarbha Cricket Association Stadium, Jamtha              742\n",
       "De Beers Diamond Oval                                     726\n",
       "Buffalo Park                                              715\n",
       "OUTsurance Oval                                           500\n",
       "ACA-VDCA Stadium                                          491\n",
       "Name: venue, dtype: int64"
      ]
     },
     "execution_count": 5,
     "metadata": {},
     "output_type": "execute_result"
    }
   ],
   "source": [
    "df['venue'].value_counts()"
   ]
  },
  {
   "cell_type": "code",
   "execution_count": 6,
   "metadata": {},
   "outputs": [],
   "source": [
    "for i,data in df.iterrows():\n",
    "    if data['venue']==\"Sardar Patel Stadium, Motera\":\n",
    "        df.at[i,'venue']=\"Narendra Modi Stadium, Motera\"\n",
    "    elif data['venue']==\"M. Chinnaswamy Stadium\":\n",
    "        df.at[i,'venue']=\"M Chinnaswamy Stadium\"\n",
    "    elif data['venue']==\"Punjab Cricket Association IS Bindra Stadium, Mohali\" or data['venue']==\"IS Bindra Stadium, Mohali\":\n",
    "        df.at[i,'venue']=\"Punjab Cricket Association Stadium, Mohali\"\n",
    "    elif data['venue']==\"Feroz Shah Kotla Ground\":\n",
    "        df.at[i,'venue']=\"Feroz Shah Kotla\"\n",
    "    elif data['venue']==\"Rajiv Gandhi Intl. Cricket Stadium\":\n",
    "        df.at[i,'venue']=\"Rajiv Gandhi International Stadium, Uppal\"\n",
    "    elif data['venue']==\"M. A. Chidambaram Stadium\":\n",
    "        df.at[i,'venue']=\"MA Chidambaram Stadium, Chepauk\"\n",
    "    elif data['venue']==\"Maharashtra Cricket Association Stadium\":\n",
    "        df.at[i,'venue']=\"MCA-Subrata Roy Sahara Stadium\"\n",
    "    elif data['venue']==\"Subrata Roy Sahara Stadium\":\n",
    "        df.at[i,'venue']=\"MCA-Subrata Roy Sahara Stadium\""
   ]
  },
  {
   "cell_type": "code",
   "execution_count": 7,
   "metadata": {},
   "outputs": [
    {
     "data": {
      "text/plain": [
       "M Chinnaswamy Stadium                                  18403\n",
       "Eden Gardens                                           17991\n",
       "Wankhede Stadium                                       17590\n",
       "Feroz Shah Kotla                                       17305\n",
       "Rajiv Gandhi International Stadium, Uppal              15215\n",
       "MA Chidambaram Stadium, Chepauk                        13895\n",
       "Punjab Cricket Association Stadium, Mohali             11581\n",
       "Sawai Mansingh Stadium                                 11158\n",
       "MCA-Subrata Roy Sahara Stadium                          9119\n",
       "Dr DY Patil Sports Academy                              3993\n",
       "Kingsmead                                               3643\n",
       "Narendra Modi Stadium, Motera                           2893\n",
       "SuperSport Park                                         2866\n",
       "Brabourne Stadium                                       2719\n",
       "Dr. Y.S. Rajasekhara Reddy ACA-VDCA Cricket Stadium     2546\n",
       "Saurashtra Cricket Association Stadium                  2381\n",
       "Himachal Pradesh Cricket Association Stadium            2159\n",
       "Holkar Cricket Stadium                                  1965\n",
       "New Wanderers Stadium                                   1940\n",
       "Dubai International Cricket Stadium                     1700\n",
       "Barabati Stadium                                        1695\n",
       "IS Bindra Stadium                                       1690\n",
       "St George's Park                                        1677\n",
       "JSCA International Stadium Complex                      1671\n",
       "Sheikh Zayed Stadium                                    1624\n",
       "Newlands                                                1539\n",
       "Sharjah Cricket Stadium                                 1439\n",
       "Shaheed Veer Narayan Singh International Stadium        1431\n",
       "Nehru Stadium                                           1155\n",
       "Green Park                                               921\n",
       "Vidarbha Cricket Association Stadium, Jamtha             742\n",
       "De Beers Diamond Oval                                    726\n",
       "Buffalo Park                                             715\n",
       "OUTsurance Oval                                          500\n",
       "ACA-VDCA Stadium                                         491\n",
       "Name: venue, dtype: int64"
      ]
     },
     "execution_count": 7,
     "metadata": {},
     "output_type": "execute_result"
    }
   ],
   "source": [
    "df['venue'].value_counts()"
   ]
  },
  {
   "cell_type": "code",
   "execution_count": 8,
   "metadata": {},
   "outputs": [],
   "source": [
    "most_common_venue=['M Chinnaswamy Stadium',\n",
    "       'Punjab Cricket Association Stadium, Mohali', 'Feroz Shah Kotla',\n",
    "       'Wankhede Stadium', 'Eden Gardens', 'Sawai Mansingh Stadium',\n",
    "       'Rajiv Gandhi International Stadium, Uppal',\n",
    "       'MA Chidambaram Stadium, Chepauk', 'Dr DY Patil Sports Academy',\n",
    "        'Narendra Modi Stadium, Motera',\n",
    "        'MCA-Subrata Roy Sahara Stadium']"
   ]
  },
  {
   "cell_type": "code",
   "execution_count": 9,
   "metadata": {},
   "outputs": [
    {
     "data": {
      "text/plain": [
       "11"
      ]
     },
     "execution_count": 9,
     "metadata": {},
     "output_type": "execute_result"
    }
   ],
   "source": [
    "len(most_common_venue)"
   ]
  },
  {
   "cell_type": "code",
   "execution_count": 10,
   "metadata": {},
   "outputs": [],
   "source": [
    "for i,data in df.iterrows():\n",
    "    if data['venue'] in most_common_venue:\n",
    "        df.at[i,'venue']=data['venue']\n",
    "    else:\n",
    "        df.at[i,'venue']='Other'"
   ]
  },
  {
   "cell_type": "code",
   "execution_count": 11,
   "metadata": {},
   "outputs": [
    {
     "data": {
      "text/plain": [
       "Other                                         39935\n",
       "M Chinnaswamy Stadium                         18403\n",
       "Eden Gardens                                  17991\n",
       "Wankhede Stadium                              17590\n",
       "Feroz Shah Kotla                              17305\n",
       "Rajiv Gandhi International Stadium, Uppal     15215\n",
       "MA Chidambaram Stadium, Chepauk               13895\n",
       "Punjab Cricket Association Stadium, Mohali    11581\n",
       "Sawai Mansingh Stadium                        11158\n",
       "MCA-Subrata Roy Sahara Stadium                 9119\n",
       "Dr DY Patil Sports Academy                     3993\n",
       "Narendra Modi Stadium, Motera                  2893\n",
       "Name: venue, dtype: int64"
      ]
     },
     "execution_count": 11,
     "metadata": {},
     "output_type": "execute_result"
    }
   ],
   "source": [
    "df['venue'].value_counts()"
   ]
  },
  {
   "cell_type": "code",
   "execution_count": 12,
   "metadata": {},
   "outputs": [],
   "source": [
    "for i,data in df.iterrows():\n",
    "    if data['venue']==\"Narendra Modi Stadium, Motera\":\n",
    "        df.at[i,'venue']=\"Narendra Modi Stadium, Motera, Ahmedabad\"\n",
    "    elif data['venue']==\"M Chinnaswamy Stadium\":\n",
    "        df.at[i,'venue']=\"M Chinnaswamy Stadium, Bangalore\"\n",
    "    elif data['venue']==\"Dr DY Patil Sports Academy\":\n",
    "        df.at[i,'venue']=\"Dr DY Patil Sports Academy, Navi Mumbai\"\n",
    "    elif data['venue']==\"Feroz Shah Kotla\":\n",
    "        df.at[i,'venue']=\"Feroz Shah Kotla Stadium, Delhi\"\n",
    "    elif data['venue']==\"Rajiv Gandhi International Stadium, Uppal\":\n",
    "        df.at[i,'venue']=\"Rajiv Gandhi International Stadium, Uppal-Hyderabad\"\n",
    "    elif data['venue']==\"MA Chidambaram Stadium, Chepauk\":\n",
    "        df.at[i,'venue']=\"MA Chidambaram Stadium, Chepauk-Chennai\"\n",
    "    elif data['venue']==\"MCA-Subrata Roy Sahara Stadium\":\n",
    "        df.at[i,'venue']=\"MCA-Subrata Roy Sahara Stadium, Pune\"\n",
    "    elif data['venue']==\"Eden Gardens\":\n",
    "        df.at[i,'venue']=\"Eden Gardens, Kolkata\"\n",
    "    elif data['venue']==\"Wankhede Stadium\":\n",
    "        df.at[i,'venue']=\"Wankhede Stadium, Mumbai\"\n",
    "    elif data['venue']==\"Sawai Mansingh Stadium\":\n",
    "        df.at[i,'venue']=\"Sawai Mansingh Stadium, Jaipur\""
   ]
  },
  {
   "cell_type": "code",
   "execution_count": 13,
   "metadata": {},
   "outputs": [
    {
     "data": {
      "text/plain": [
       "Other                                                  39935\n",
       "M Chinnaswamy Stadium, Bangalore                       18403\n",
       "Eden Gardens, Kolkata                                  17991\n",
       "Wankhede Stadium, Mumbai                               17590\n",
       "Feroz Shah Kotla Stadium, Delhi                        17305\n",
       "Rajiv Gandhi International Stadium, Uppal-Hyderabad    15215\n",
       "MA Chidambaram Stadium, Chepauk-Chennai                13895\n",
       "Punjab Cricket Association Stadium, Mohali             11581\n",
       "Sawai Mansingh Stadium, Jaipur                         11158\n",
       "MCA-Subrata Roy Sahara Stadium, Pune                    9119\n",
       "Dr DY Patil Sports Academy, Navi Mumbai                 3993\n",
       "Narendra Modi Stadium, Motera, Ahmedabad                2893\n",
       "Name: venue, dtype: int64"
      ]
     },
     "execution_count": 13,
     "metadata": {},
     "output_type": "execute_result"
    }
   ],
   "source": [
    "df['venue'].value_counts()"
   ]
  },
  {
   "cell_type": "code",
   "execution_count": 14,
   "metadata": {},
   "outputs": [],
   "source": [
    "df=df[df['delivery']>=4.0]"
   ]
  },
  {
   "cell_type": "code",
   "execution_count": 15,
   "metadata": {},
   "outputs": [
    {
     "data": {
      "text/html": [
       "<div>\n",
       "<style scoped>\n",
       "    .dataframe tbody tr th:only-of-type {\n",
       "        vertical-align: middle;\n",
       "    }\n",
       "\n",
       "    .dataframe tbody tr th {\n",
       "        vertical-align: top;\n",
       "    }\n",
       "\n",
       "    .dataframe thead th {\n",
       "        text-align: right;\n",
       "    }\n",
       "</style>\n",
       "<table border=\"1\" class=\"dataframe\">\n",
       "  <thead>\n",
       "    <tr style=\"text-align: right;\">\n",
       "      <th></th>\n",
       "      <th>Unnamed: 0</th>\n",
       "      <th>match_id</th>\n",
       "      <th>inning</th>\n",
       "      <th>batting_team</th>\n",
       "      <th>bowling_team</th>\n",
       "      <th>delivery</th>\n",
       "      <th>runs</th>\n",
       "      <th>wicket</th>\n",
       "      <th>innings_total</th>\n",
       "      <th>city</th>\n",
       "      <th>venue</th>\n",
       "      <th>last_4overs_wickets</th>\n",
       "      <th>last_4overs_runs</th>\n",
       "    </tr>\n",
       "  </thead>\n",
       "  <tbody>\n",
       "    <tr>\n",
       "      <th>26</th>\n",
       "      <td>26</td>\n",
       "      <td>1</td>\n",
       "      <td>1</td>\n",
       "      <td>Sunrisers Hyderabad</td>\n",
       "      <td>Royal Challengers Bangalore</td>\n",
       "      <td>4.1</td>\n",
       "      <td>1</td>\n",
       "      <td>0</td>\n",
       "      <td>207</td>\n",
       "      <td>Hyderabad</td>\n",
       "      <td>Rajiv Gandhi International Stadium, Uppal-Hyde...</td>\n",
       "      <td>1</td>\n",
       "      <td>30</td>\n",
       "    </tr>\n",
       "    <tr>\n",
       "      <th>27</th>\n",
       "      <td>27</td>\n",
       "      <td>1</td>\n",
       "      <td>1</td>\n",
       "      <td>Sunrisers Hyderabad</td>\n",
       "      <td>Royal Challengers Bangalore</td>\n",
       "      <td>4.2</td>\n",
       "      <td>1</td>\n",
       "      <td>0</td>\n",
       "      <td>207</td>\n",
       "      <td>Hyderabad</td>\n",
       "      <td>Rajiv Gandhi International Stadium, Uppal-Hyde...</td>\n",
       "      <td>1</td>\n",
       "      <td>31</td>\n",
       "    </tr>\n",
       "    <tr>\n",
       "      <th>28</th>\n",
       "      <td>28</td>\n",
       "      <td>1</td>\n",
       "      <td>1</td>\n",
       "      <td>Sunrisers Hyderabad</td>\n",
       "      <td>Royal Challengers Bangalore</td>\n",
       "      <td>4.3</td>\n",
       "      <td>1</td>\n",
       "      <td>0</td>\n",
       "      <td>207</td>\n",
       "      <td>Hyderabad</td>\n",
       "      <td>Rajiv Gandhi International Stadium, Uppal-Hyde...</td>\n",
       "      <td>1</td>\n",
       "      <td>30</td>\n",
       "    </tr>\n",
       "    <tr>\n",
       "      <th>29</th>\n",
       "      <td>29</td>\n",
       "      <td>1</td>\n",
       "      <td>1</td>\n",
       "      <td>Sunrisers Hyderabad</td>\n",
       "      <td>Royal Challengers Bangalore</td>\n",
       "      <td>4.4</td>\n",
       "      <td>2</td>\n",
       "      <td>0</td>\n",
       "      <td>207</td>\n",
       "      <td>Hyderabad</td>\n",
       "      <td>Rajiv Gandhi International Stadium, Uppal-Hyde...</td>\n",
       "      <td>1</td>\n",
       "      <td>32</td>\n",
       "    </tr>\n",
       "    <tr>\n",
       "      <th>30</th>\n",
       "      <td>30</td>\n",
       "      <td>1</td>\n",
       "      <td>1</td>\n",
       "      <td>Sunrisers Hyderabad</td>\n",
       "      <td>Royal Challengers Bangalore</td>\n",
       "      <td>4.5</td>\n",
       "      <td>4</td>\n",
       "      <td>0</td>\n",
       "      <td>207</td>\n",
       "      <td>Hyderabad</td>\n",
       "      <td>Rajiv Gandhi International Stadium, Uppal-Hyde...</td>\n",
       "      <td>1</td>\n",
       "      <td>35</td>\n",
       "    </tr>\n",
       "  </tbody>\n",
       "</table>\n",
       "</div>"
      ],
      "text/plain": [
       "    Unnamed: 0  match_id  inning         batting_team  \\\n",
       "26          26         1       1  Sunrisers Hyderabad   \n",
       "27          27         1       1  Sunrisers Hyderabad   \n",
       "28          28         1       1  Sunrisers Hyderabad   \n",
       "29          29         1       1  Sunrisers Hyderabad   \n",
       "30          30         1       1  Sunrisers Hyderabad   \n",
       "\n",
       "                   bowling_team  delivery  runs  wicket  innings_total  \\\n",
       "26  Royal Challengers Bangalore       4.1     1       0            207   \n",
       "27  Royal Challengers Bangalore       4.2     1       0            207   \n",
       "28  Royal Challengers Bangalore       4.3     1       0            207   \n",
       "29  Royal Challengers Bangalore       4.4     2       0            207   \n",
       "30  Royal Challengers Bangalore       4.5     4       0            207   \n",
       "\n",
       "         city                                              venue  \\\n",
       "26  Hyderabad  Rajiv Gandhi International Stadium, Uppal-Hyde...   \n",
       "27  Hyderabad  Rajiv Gandhi International Stadium, Uppal-Hyde...   \n",
       "28  Hyderabad  Rajiv Gandhi International Stadium, Uppal-Hyde...   \n",
       "29  Hyderabad  Rajiv Gandhi International Stadium, Uppal-Hyde...   \n",
       "30  Hyderabad  Rajiv Gandhi International Stadium, Uppal-Hyde...   \n",
       "\n",
       "    last_4overs_wickets  last_4overs_runs  \n",
       "26                    1                30  \n",
       "27                    1                31  \n",
       "28                    1                30  \n",
       "29                    1                32  \n",
       "30                    1                35  "
      ]
     },
     "execution_count": 15,
     "metadata": {},
     "output_type": "execute_result"
    }
   ],
   "source": [
    "df.head()"
   ]
  },
  {
   "cell_type": "code",
   "execution_count": 16,
   "metadata": {},
   "outputs": [],
   "source": [
    "df=df[['venue','batting_team','bowling_team','delivery','runs','wicket','last_4overs_runs','last_4overs_wickets','innings_total']]"
   ]
  },
  {
   "cell_type": "code",
   "execution_count": 17,
   "metadata": {},
   "outputs": [
    {
     "data": {
      "text/html": [
       "<div>\n",
       "<style scoped>\n",
       "    .dataframe tbody tr th:only-of-type {\n",
       "        vertical-align: middle;\n",
       "    }\n",
       "\n",
       "    .dataframe tbody tr th {\n",
       "        vertical-align: top;\n",
       "    }\n",
       "\n",
       "    .dataframe thead th {\n",
       "        text-align: right;\n",
       "    }\n",
       "</style>\n",
       "<table border=\"1\" class=\"dataframe\">\n",
       "  <thead>\n",
       "    <tr style=\"text-align: right;\">\n",
       "      <th></th>\n",
       "      <th>venue</th>\n",
       "      <th>batting_team</th>\n",
       "      <th>bowling_team</th>\n",
       "      <th>delivery</th>\n",
       "      <th>runs</th>\n",
       "      <th>wicket</th>\n",
       "      <th>last_4overs_runs</th>\n",
       "      <th>last_4overs_wickets</th>\n",
       "      <th>innings_total</th>\n",
       "    </tr>\n",
       "  </thead>\n",
       "  <tbody>\n",
       "    <tr>\n",
       "      <th>26</th>\n",
       "      <td>Rajiv Gandhi International Stadium, Uppal-Hyde...</td>\n",
       "      <td>Sunrisers Hyderabad</td>\n",
       "      <td>Royal Challengers Bangalore</td>\n",
       "      <td>4.1</td>\n",
       "      <td>1</td>\n",
       "      <td>0</td>\n",
       "      <td>30</td>\n",
       "      <td>1</td>\n",
       "      <td>207</td>\n",
       "    </tr>\n",
       "    <tr>\n",
       "      <th>27</th>\n",
       "      <td>Rajiv Gandhi International Stadium, Uppal-Hyde...</td>\n",
       "      <td>Sunrisers Hyderabad</td>\n",
       "      <td>Royal Challengers Bangalore</td>\n",
       "      <td>4.2</td>\n",
       "      <td>1</td>\n",
       "      <td>0</td>\n",
       "      <td>31</td>\n",
       "      <td>1</td>\n",
       "      <td>207</td>\n",
       "    </tr>\n",
       "    <tr>\n",
       "      <th>28</th>\n",
       "      <td>Rajiv Gandhi International Stadium, Uppal-Hyde...</td>\n",
       "      <td>Sunrisers Hyderabad</td>\n",
       "      <td>Royal Challengers Bangalore</td>\n",
       "      <td>4.3</td>\n",
       "      <td>1</td>\n",
       "      <td>0</td>\n",
       "      <td>30</td>\n",
       "      <td>1</td>\n",
       "      <td>207</td>\n",
       "    </tr>\n",
       "    <tr>\n",
       "      <th>29</th>\n",
       "      <td>Rajiv Gandhi International Stadium, Uppal-Hyde...</td>\n",
       "      <td>Sunrisers Hyderabad</td>\n",
       "      <td>Royal Challengers Bangalore</td>\n",
       "      <td>4.4</td>\n",
       "      <td>2</td>\n",
       "      <td>0</td>\n",
       "      <td>32</td>\n",
       "      <td>1</td>\n",
       "      <td>207</td>\n",
       "    </tr>\n",
       "    <tr>\n",
       "      <th>30</th>\n",
       "      <td>Rajiv Gandhi International Stadium, Uppal-Hyde...</td>\n",
       "      <td>Sunrisers Hyderabad</td>\n",
       "      <td>Royal Challengers Bangalore</td>\n",
       "      <td>4.5</td>\n",
       "      <td>4</td>\n",
       "      <td>0</td>\n",
       "      <td>35</td>\n",
       "      <td>1</td>\n",
       "      <td>207</td>\n",
       "    </tr>\n",
       "  </tbody>\n",
       "</table>\n",
       "</div>"
      ],
      "text/plain": [
       "                                                venue         batting_team  \\\n",
       "26  Rajiv Gandhi International Stadium, Uppal-Hyde...  Sunrisers Hyderabad   \n",
       "27  Rajiv Gandhi International Stadium, Uppal-Hyde...  Sunrisers Hyderabad   \n",
       "28  Rajiv Gandhi International Stadium, Uppal-Hyde...  Sunrisers Hyderabad   \n",
       "29  Rajiv Gandhi International Stadium, Uppal-Hyde...  Sunrisers Hyderabad   \n",
       "30  Rajiv Gandhi International Stadium, Uppal-Hyde...  Sunrisers Hyderabad   \n",
       "\n",
       "                   bowling_team  delivery  runs  wicket  last_4overs_runs  \\\n",
       "26  Royal Challengers Bangalore       4.1     1       0                30   \n",
       "27  Royal Challengers Bangalore       4.2     1       0                31   \n",
       "28  Royal Challengers Bangalore       4.3     1       0                30   \n",
       "29  Royal Challengers Bangalore       4.4     2       0                32   \n",
       "30  Royal Challengers Bangalore       4.5     4       0                35   \n",
       "\n",
       "    last_4overs_wickets  innings_total  \n",
       "26                    1            207  \n",
       "27                    1            207  \n",
       "28                    1            207  \n",
       "29                    1            207  \n",
       "30                    1            207  "
      ]
     },
     "execution_count": 17,
     "metadata": {},
     "output_type": "execute_result"
    }
   ],
   "source": [
    "df.head()"
   ]
  },
  {
   "cell_type": "code",
   "execution_count": 18,
   "metadata": {},
   "outputs": [
    {
     "data": {
      "text/plain": [
       "Mumbai Indians                 17876\n",
       "Kings XI Punjab                16518\n",
       "Royal Challengers Bangalore    16423\n",
       "Kolkata Knight Riders          16366\n",
       "Chennai Super Kings            15664\n",
       "Delhi Daredevils               14753\n",
       "Rajasthan Royals               13633\n",
       "Sunrisers Hyderabad            10202\n",
       "Deccan Chargers                 7147\n",
       "Pune Warriors                   4322\n",
       "Gujarat Lions                   2810\n",
       "Delhi Capitals                  1509\n",
       "Rising Pune Supergiant          1500\n",
       "Rising Pune Supergiants         1233\n",
       "Kochi Tuskers Kerala            1227\n",
       "Name: batting_team, dtype: int64"
      ]
     },
     "execution_count": 18,
     "metadata": {},
     "output_type": "execute_result"
    }
   ],
   "source": [
    "df['batting_team'].value_counts()"
   ]
  },
  {
   "cell_type": "code",
   "execution_count": 19,
   "metadata": {},
   "outputs": [],
   "source": [
    "for i,data in df.iterrows():\n",
    "    if data['batting_team']==\"Kings XI Punjab\":\n",
    "        df.at[i,'batting_team']=\"Punjab Kings\"\n",
    "    elif data['batting_team']==\"Delhi Daredevils\":\n",
    "        df.at[i,'batting_team']=\"Delhi Capitals\"\n",
    "    elif data['bowling_team']==\"Kings XI Punjab\":\n",
    "        df.at[i,'bowling_team']=\"Punjab Kings\"\n",
    "    elif data['bowling_team']==\"Delhi Daredevils\":\n",
    "        df.at[i,'bowling_team']=\"Delhi Capitals\""
   ]
  },
  {
   "cell_type": "code",
   "execution_count": 20,
   "metadata": {},
   "outputs": [
    {
     "data": {
      "text/plain": [
       "Mumbai Indians                 17876\n",
       "Punjab Kings                   16518\n",
       "Royal Challengers Bangalore    16423\n",
       "Kolkata Knight Riders          16366\n",
       "Delhi Capitals                 16262\n",
       "Chennai Super Kings            15664\n",
       "Rajasthan Royals               13633\n",
       "Sunrisers Hyderabad            10202\n",
       "Deccan Chargers                 7147\n",
       "Pune Warriors                   4322\n",
       "Gujarat Lions                   2810\n",
       "Rising Pune Supergiant          1500\n",
       "Rising Pune Supergiants         1233\n",
       "Kochi Tuskers Kerala            1227\n",
       "Name: batting_team, dtype: int64"
      ]
     },
     "execution_count": 20,
     "metadata": {},
     "output_type": "execute_result"
    }
   ],
   "source": [
    "df['batting_team'].value_counts()"
   ]
  },
  {
   "cell_type": "code",
   "execution_count": 21,
   "metadata": {},
   "outputs": [],
   "source": [
    "current_teams=['Kolkata Knight Riders', 'Chennai Super Kings', 'Rajasthan Royals','Mumbai Indians', 'Punjab Kings',\n",
    "               'Royal Challengers Bangalore', 'Delhi Capitals','Sunrisers Hyderabad']"
   ]
  },
  {
   "cell_type": "code",
   "execution_count": 22,
   "metadata": {},
   "outputs": [],
   "source": [
    "df=df[(df['batting_team'].isin(current_teams)) & (df['bowling_team'].isin(current_teams))]"
   ]
  },
  {
   "cell_type": "code",
   "execution_count": 23,
   "metadata": {},
   "outputs": [
    {
     "data": {
      "text/html": [
       "<div>\n",
       "<style scoped>\n",
       "    .dataframe tbody tr th:only-of-type {\n",
       "        vertical-align: middle;\n",
       "    }\n",
       "\n",
       "    .dataframe tbody tr th {\n",
       "        vertical-align: top;\n",
       "    }\n",
       "\n",
       "    .dataframe thead th {\n",
       "        text-align: right;\n",
       "    }\n",
       "</style>\n",
       "<table border=\"1\" class=\"dataframe\">\n",
       "  <thead>\n",
       "    <tr style=\"text-align: right;\">\n",
       "      <th></th>\n",
       "      <th>venue</th>\n",
       "      <th>batting_team</th>\n",
       "      <th>bowling_team</th>\n",
       "      <th>delivery</th>\n",
       "      <th>runs</th>\n",
       "      <th>wicket</th>\n",
       "      <th>last_4overs_runs</th>\n",
       "      <th>last_4overs_wickets</th>\n",
       "      <th>innings_total</th>\n",
       "    </tr>\n",
       "  </thead>\n",
       "  <tbody>\n",
       "    <tr>\n",
       "      <th>26</th>\n",
       "      <td>Rajiv Gandhi International Stadium, Uppal-Hyde...</td>\n",
       "      <td>Sunrisers Hyderabad</td>\n",
       "      <td>Royal Challengers Bangalore</td>\n",
       "      <td>4.1</td>\n",
       "      <td>1</td>\n",
       "      <td>0</td>\n",
       "      <td>30</td>\n",
       "      <td>1</td>\n",
       "      <td>207</td>\n",
       "    </tr>\n",
       "    <tr>\n",
       "      <th>27</th>\n",
       "      <td>Rajiv Gandhi International Stadium, Uppal-Hyde...</td>\n",
       "      <td>Sunrisers Hyderabad</td>\n",
       "      <td>Royal Challengers Bangalore</td>\n",
       "      <td>4.2</td>\n",
       "      <td>1</td>\n",
       "      <td>0</td>\n",
       "      <td>31</td>\n",
       "      <td>1</td>\n",
       "      <td>207</td>\n",
       "    </tr>\n",
       "    <tr>\n",
       "      <th>28</th>\n",
       "      <td>Rajiv Gandhi International Stadium, Uppal-Hyde...</td>\n",
       "      <td>Sunrisers Hyderabad</td>\n",
       "      <td>Royal Challengers Bangalore</td>\n",
       "      <td>4.3</td>\n",
       "      <td>1</td>\n",
       "      <td>0</td>\n",
       "      <td>30</td>\n",
       "      <td>1</td>\n",
       "      <td>207</td>\n",
       "    </tr>\n",
       "    <tr>\n",
       "      <th>29</th>\n",
       "      <td>Rajiv Gandhi International Stadium, Uppal-Hyde...</td>\n",
       "      <td>Sunrisers Hyderabad</td>\n",
       "      <td>Royal Challengers Bangalore</td>\n",
       "      <td>4.4</td>\n",
       "      <td>2</td>\n",
       "      <td>0</td>\n",
       "      <td>32</td>\n",
       "      <td>1</td>\n",
       "      <td>207</td>\n",
       "    </tr>\n",
       "    <tr>\n",
       "      <th>30</th>\n",
       "      <td>Rajiv Gandhi International Stadium, Uppal-Hyde...</td>\n",
       "      <td>Sunrisers Hyderabad</td>\n",
       "      <td>Royal Challengers Bangalore</td>\n",
       "      <td>4.5</td>\n",
       "      <td>4</td>\n",
       "      <td>0</td>\n",
       "      <td>35</td>\n",
       "      <td>1</td>\n",
       "      <td>207</td>\n",
       "    </tr>\n",
       "  </tbody>\n",
       "</table>\n",
       "</div>"
      ],
      "text/plain": [
       "                                                venue         batting_team  \\\n",
       "26  Rajiv Gandhi International Stadium, Uppal-Hyde...  Sunrisers Hyderabad   \n",
       "27  Rajiv Gandhi International Stadium, Uppal-Hyde...  Sunrisers Hyderabad   \n",
       "28  Rajiv Gandhi International Stadium, Uppal-Hyde...  Sunrisers Hyderabad   \n",
       "29  Rajiv Gandhi International Stadium, Uppal-Hyde...  Sunrisers Hyderabad   \n",
       "30  Rajiv Gandhi International Stadium, Uppal-Hyde...  Sunrisers Hyderabad   \n",
       "\n",
       "                   bowling_team  delivery  runs  wicket  last_4overs_runs  \\\n",
       "26  Royal Challengers Bangalore       4.1     1       0                30   \n",
       "27  Royal Challengers Bangalore       4.2     1       0                31   \n",
       "28  Royal Challengers Bangalore       4.3     1       0                30   \n",
       "29  Royal Challengers Bangalore       4.4     2       0                32   \n",
       "30  Royal Challengers Bangalore       4.5     4       0                35   \n",
       "\n",
       "    last_4overs_wickets  innings_total  \n",
       "26                    1            207  \n",
       "27                    1            207  \n",
       "28                    1            207  \n",
       "29                    1            207  \n",
       "30                    1            207  "
      ]
     },
     "execution_count": 23,
     "metadata": {},
     "output_type": "execute_result"
    }
   ],
   "source": [
    "df.head()"
   ]
  },
  {
   "cell_type": "code",
   "execution_count": 24,
   "metadata": {},
   "outputs": [
    {
     "data": {
      "text/plain": [
       "(102733, 9)"
      ]
     },
     "execution_count": 24,
     "metadata": {},
     "output_type": "execute_result"
    }
   ],
   "source": [
    "df.shape"
   ]
  },
  {
   "cell_type": "code",
   "execution_count": 25,
   "metadata": {},
   "outputs": [],
   "source": [
    "encoded_df=pd.get_dummies(df,columns=['venue','batting_team','bowling_team'])"
   ]
  },
  {
   "cell_type": "code",
   "execution_count": 26,
   "metadata": {},
   "outputs": [
    {
     "data": {
      "text/plain": [
       "Index(['delivery', 'runs', 'wicket', 'last_4overs_runs', 'last_4overs_wickets',\n",
       "       'innings_total', 'venue_Dr DY Patil Sports Academy, Navi Mumbai',\n",
       "       'venue_Eden Gardens, Kolkata', 'venue_Feroz Shah Kotla Stadium, Delhi',\n",
       "       'venue_M Chinnaswamy Stadium, Bangalore',\n",
       "       'venue_MA Chidambaram Stadium, Chepauk-Chennai',\n",
       "       'venue_MCA-Subrata Roy Sahara Stadium, Pune',\n",
       "       'venue_Narendra Modi Stadium, Motera, Ahmedabad', 'venue_Other',\n",
       "       'venue_Punjab Cricket Association Stadium, Mohali',\n",
       "       'venue_Rajiv Gandhi International Stadium, Uppal-Hyderabad',\n",
       "       'venue_Sawai Mansingh Stadium, Jaipur',\n",
       "       'venue_Wankhede Stadium, Mumbai', 'batting_team_Chennai Super Kings',\n",
       "       'batting_team_Delhi Capitals', 'batting_team_Kolkata Knight Riders',\n",
       "       'batting_team_Mumbai Indians', 'batting_team_Punjab Kings',\n",
       "       'batting_team_Rajasthan Royals',\n",
       "       'batting_team_Royal Challengers Bangalore',\n",
       "       'batting_team_Sunrisers Hyderabad', 'bowling_team_Chennai Super Kings',\n",
       "       'bowling_team_Delhi Capitals', 'bowling_team_Kolkata Knight Riders',\n",
       "       'bowling_team_Mumbai Indians', 'bowling_team_Punjab Kings',\n",
       "       'bowling_team_Rajasthan Royals',\n",
       "       'bowling_team_Royal Challengers Bangalore',\n",
       "       'bowling_team_Sunrisers Hyderabad'],\n",
       "      dtype='object')"
      ]
     },
     "execution_count": 26,
     "metadata": {},
     "output_type": "execute_result"
    }
   ],
   "source": [
    "encoded_df.columns"
   ]
  },
  {
   "cell_type": "code",
   "execution_count": 27,
   "metadata": {},
   "outputs": [],
   "source": [
    "X = encoded_df.drop('innings_total',axis=1)\n",
    "y = encoded_df['innings_total']"
   ]
  },
  {
   "cell_type": "code",
   "execution_count": 28,
   "metadata": {},
   "outputs": [
    {
     "data": {
      "text/html": [
       "<div>\n",
       "<style scoped>\n",
       "    .dataframe tbody tr th:only-of-type {\n",
       "        vertical-align: middle;\n",
       "    }\n",
       "\n",
       "    .dataframe tbody tr th {\n",
       "        vertical-align: top;\n",
       "    }\n",
       "\n",
       "    .dataframe thead th {\n",
       "        text-align: right;\n",
       "    }\n",
       "</style>\n",
       "<table border=\"1\" class=\"dataframe\">\n",
       "  <thead>\n",
       "    <tr style=\"text-align: right;\">\n",
       "      <th></th>\n",
       "      <th>delivery</th>\n",
       "      <th>runs</th>\n",
       "      <th>wicket</th>\n",
       "      <th>last_4overs_runs</th>\n",
       "      <th>last_4overs_wickets</th>\n",
       "      <th>venue_Dr DY Patil Sports Academy, Navi Mumbai</th>\n",
       "      <th>venue_Eden Gardens, Kolkata</th>\n",
       "      <th>venue_Feroz Shah Kotla Stadium, Delhi</th>\n",
       "      <th>venue_M Chinnaswamy Stadium, Bangalore</th>\n",
       "      <th>venue_MA Chidambaram Stadium, Chepauk-Chennai</th>\n",
       "      <th>venue_MCA-Subrata Roy Sahara Stadium, Pune</th>\n",
       "      <th>venue_Narendra Modi Stadium, Motera, Ahmedabad</th>\n",
       "      <th>venue_Other</th>\n",
       "      <th>venue_Punjab Cricket Association Stadium, Mohali</th>\n",
       "      <th>venue_Rajiv Gandhi International Stadium, Uppal-Hyderabad</th>\n",
       "      <th>venue_Sawai Mansingh Stadium, Jaipur</th>\n",
       "      <th>venue_Wankhede Stadium, Mumbai</th>\n",
       "      <th>batting_team_Chennai Super Kings</th>\n",
       "      <th>batting_team_Delhi Capitals</th>\n",
       "      <th>batting_team_Kolkata Knight Riders</th>\n",
       "      <th>batting_team_Mumbai Indians</th>\n",
       "      <th>batting_team_Punjab Kings</th>\n",
       "      <th>batting_team_Rajasthan Royals</th>\n",
       "      <th>batting_team_Royal Challengers Bangalore</th>\n",
       "      <th>batting_team_Sunrisers Hyderabad</th>\n",
       "      <th>bowling_team_Chennai Super Kings</th>\n",
       "      <th>bowling_team_Delhi Capitals</th>\n",
       "      <th>bowling_team_Kolkata Knight Riders</th>\n",
       "      <th>bowling_team_Mumbai Indians</th>\n",
       "      <th>bowling_team_Punjab Kings</th>\n",
       "      <th>bowling_team_Rajasthan Royals</th>\n",
       "      <th>bowling_team_Royal Challengers Bangalore</th>\n",
       "      <th>bowling_team_Sunrisers Hyderabad</th>\n",
       "    </tr>\n",
       "  </thead>\n",
       "  <tbody>\n",
       "    <tr>\n",
       "      <th>26</th>\n",
       "      <td>4.1</td>\n",
       "      <td>1</td>\n",
       "      <td>0</td>\n",
       "      <td>30</td>\n",
       "      <td>1</td>\n",
       "      <td>0</td>\n",
       "      <td>0</td>\n",
       "      <td>0</td>\n",
       "      <td>0</td>\n",
       "      <td>0</td>\n",
       "      <td>0</td>\n",
       "      <td>0</td>\n",
       "      <td>0</td>\n",
       "      <td>0</td>\n",
       "      <td>1</td>\n",
       "      <td>0</td>\n",
       "      <td>0</td>\n",
       "      <td>0</td>\n",
       "      <td>0</td>\n",
       "      <td>0</td>\n",
       "      <td>0</td>\n",
       "      <td>0</td>\n",
       "      <td>0</td>\n",
       "      <td>0</td>\n",
       "      <td>1</td>\n",
       "      <td>0</td>\n",
       "      <td>0</td>\n",
       "      <td>0</td>\n",
       "      <td>0</td>\n",
       "      <td>0</td>\n",
       "      <td>0</td>\n",
       "      <td>1</td>\n",
       "      <td>0</td>\n",
       "    </tr>\n",
       "    <tr>\n",
       "      <th>27</th>\n",
       "      <td>4.2</td>\n",
       "      <td>1</td>\n",
       "      <td>0</td>\n",
       "      <td>31</td>\n",
       "      <td>1</td>\n",
       "      <td>0</td>\n",
       "      <td>0</td>\n",
       "      <td>0</td>\n",
       "      <td>0</td>\n",
       "      <td>0</td>\n",
       "      <td>0</td>\n",
       "      <td>0</td>\n",
       "      <td>0</td>\n",
       "      <td>0</td>\n",
       "      <td>1</td>\n",
       "      <td>0</td>\n",
       "      <td>0</td>\n",
       "      <td>0</td>\n",
       "      <td>0</td>\n",
       "      <td>0</td>\n",
       "      <td>0</td>\n",
       "      <td>0</td>\n",
       "      <td>0</td>\n",
       "      <td>0</td>\n",
       "      <td>1</td>\n",
       "      <td>0</td>\n",
       "      <td>0</td>\n",
       "      <td>0</td>\n",
       "      <td>0</td>\n",
       "      <td>0</td>\n",
       "      <td>0</td>\n",
       "      <td>1</td>\n",
       "      <td>0</td>\n",
       "    </tr>\n",
       "    <tr>\n",
       "      <th>28</th>\n",
       "      <td>4.3</td>\n",
       "      <td>1</td>\n",
       "      <td>0</td>\n",
       "      <td>30</td>\n",
       "      <td>1</td>\n",
       "      <td>0</td>\n",
       "      <td>0</td>\n",
       "      <td>0</td>\n",
       "      <td>0</td>\n",
       "      <td>0</td>\n",
       "      <td>0</td>\n",
       "      <td>0</td>\n",
       "      <td>0</td>\n",
       "      <td>0</td>\n",
       "      <td>1</td>\n",
       "      <td>0</td>\n",
       "      <td>0</td>\n",
       "      <td>0</td>\n",
       "      <td>0</td>\n",
       "      <td>0</td>\n",
       "      <td>0</td>\n",
       "      <td>0</td>\n",
       "      <td>0</td>\n",
       "      <td>0</td>\n",
       "      <td>1</td>\n",
       "      <td>0</td>\n",
       "      <td>0</td>\n",
       "      <td>0</td>\n",
       "      <td>0</td>\n",
       "      <td>0</td>\n",
       "      <td>0</td>\n",
       "      <td>1</td>\n",
       "      <td>0</td>\n",
       "    </tr>\n",
       "    <tr>\n",
       "      <th>29</th>\n",
       "      <td>4.4</td>\n",
       "      <td>2</td>\n",
       "      <td>0</td>\n",
       "      <td>32</td>\n",
       "      <td>1</td>\n",
       "      <td>0</td>\n",
       "      <td>0</td>\n",
       "      <td>0</td>\n",
       "      <td>0</td>\n",
       "      <td>0</td>\n",
       "      <td>0</td>\n",
       "      <td>0</td>\n",
       "      <td>0</td>\n",
       "      <td>0</td>\n",
       "      <td>1</td>\n",
       "      <td>0</td>\n",
       "      <td>0</td>\n",
       "      <td>0</td>\n",
       "      <td>0</td>\n",
       "      <td>0</td>\n",
       "      <td>0</td>\n",
       "      <td>0</td>\n",
       "      <td>0</td>\n",
       "      <td>0</td>\n",
       "      <td>1</td>\n",
       "      <td>0</td>\n",
       "      <td>0</td>\n",
       "      <td>0</td>\n",
       "      <td>0</td>\n",
       "      <td>0</td>\n",
       "      <td>0</td>\n",
       "      <td>1</td>\n",
       "      <td>0</td>\n",
       "    </tr>\n",
       "    <tr>\n",
       "      <th>30</th>\n",
       "      <td>4.5</td>\n",
       "      <td>4</td>\n",
       "      <td>0</td>\n",
       "      <td>35</td>\n",
       "      <td>1</td>\n",
       "      <td>0</td>\n",
       "      <td>0</td>\n",
       "      <td>0</td>\n",
       "      <td>0</td>\n",
       "      <td>0</td>\n",
       "      <td>0</td>\n",
       "      <td>0</td>\n",
       "      <td>0</td>\n",
       "      <td>0</td>\n",
       "      <td>1</td>\n",
       "      <td>0</td>\n",
       "      <td>0</td>\n",
       "      <td>0</td>\n",
       "      <td>0</td>\n",
       "      <td>0</td>\n",
       "      <td>0</td>\n",
       "      <td>0</td>\n",
       "      <td>0</td>\n",
       "      <td>0</td>\n",
       "      <td>1</td>\n",
       "      <td>0</td>\n",
       "      <td>0</td>\n",
       "      <td>0</td>\n",
       "      <td>0</td>\n",
       "      <td>0</td>\n",
       "      <td>0</td>\n",
       "      <td>1</td>\n",
       "      <td>0</td>\n",
       "    </tr>\n",
       "  </tbody>\n",
       "</table>\n",
       "</div>"
      ],
      "text/plain": [
       "    delivery  runs  wicket  last_4overs_runs  last_4overs_wickets  \\\n",
       "26       4.1     1       0                30                    1   \n",
       "27       4.2     1       0                31                    1   \n",
       "28       4.3     1       0                30                    1   \n",
       "29       4.4     2       0                32                    1   \n",
       "30       4.5     4       0                35                    1   \n",
       "\n",
       "    venue_Dr DY Patil Sports Academy, Navi Mumbai  \\\n",
       "26                                              0   \n",
       "27                                              0   \n",
       "28                                              0   \n",
       "29                                              0   \n",
       "30                                              0   \n",
       "\n",
       "    venue_Eden Gardens, Kolkata  venue_Feroz Shah Kotla Stadium, Delhi  \\\n",
       "26                            0                                      0   \n",
       "27                            0                                      0   \n",
       "28                            0                                      0   \n",
       "29                            0                                      0   \n",
       "30                            0                                      0   \n",
       "\n",
       "    venue_M Chinnaswamy Stadium, Bangalore  \\\n",
       "26                                       0   \n",
       "27                                       0   \n",
       "28                                       0   \n",
       "29                                       0   \n",
       "30                                       0   \n",
       "\n",
       "    venue_MA Chidambaram Stadium, Chepauk-Chennai  \\\n",
       "26                                              0   \n",
       "27                                              0   \n",
       "28                                              0   \n",
       "29                                              0   \n",
       "30                                              0   \n",
       "\n",
       "    venue_MCA-Subrata Roy Sahara Stadium, Pune  \\\n",
       "26                                           0   \n",
       "27                                           0   \n",
       "28                                           0   \n",
       "29                                           0   \n",
       "30                                           0   \n",
       "\n",
       "    venue_Narendra Modi Stadium, Motera, Ahmedabad  venue_Other  \\\n",
       "26                                               0            0   \n",
       "27                                               0            0   \n",
       "28                                               0            0   \n",
       "29                                               0            0   \n",
       "30                                               0            0   \n",
       "\n",
       "    venue_Punjab Cricket Association Stadium, Mohali  \\\n",
       "26                                                 0   \n",
       "27                                                 0   \n",
       "28                                                 0   \n",
       "29                                                 0   \n",
       "30                                                 0   \n",
       "\n",
       "    venue_Rajiv Gandhi International Stadium, Uppal-Hyderabad  \\\n",
       "26                                                  1           \n",
       "27                                                  1           \n",
       "28                                                  1           \n",
       "29                                                  1           \n",
       "30                                                  1           \n",
       "\n",
       "    venue_Sawai Mansingh Stadium, Jaipur  venue_Wankhede Stadium, Mumbai  \\\n",
       "26                                     0                               0   \n",
       "27                                     0                               0   \n",
       "28                                     0                               0   \n",
       "29                                     0                               0   \n",
       "30                                     0                               0   \n",
       "\n",
       "    batting_team_Chennai Super Kings  batting_team_Delhi Capitals  \\\n",
       "26                                 0                            0   \n",
       "27                                 0                            0   \n",
       "28                                 0                            0   \n",
       "29                                 0                            0   \n",
       "30                                 0                            0   \n",
       "\n",
       "    batting_team_Kolkata Knight Riders  batting_team_Mumbai Indians  \\\n",
       "26                                   0                            0   \n",
       "27                                   0                            0   \n",
       "28                                   0                            0   \n",
       "29                                   0                            0   \n",
       "30                                   0                            0   \n",
       "\n",
       "    batting_team_Punjab Kings  batting_team_Rajasthan Royals  \\\n",
       "26                          0                              0   \n",
       "27                          0                              0   \n",
       "28                          0                              0   \n",
       "29                          0                              0   \n",
       "30                          0                              0   \n",
       "\n",
       "    batting_team_Royal Challengers Bangalore  \\\n",
       "26                                         0   \n",
       "27                                         0   \n",
       "28                                         0   \n",
       "29                                         0   \n",
       "30                                         0   \n",
       "\n",
       "    batting_team_Sunrisers Hyderabad  bowling_team_Chennai Super Kings  \\\n",
       "26                                 1                                 0   \n",
       "27                                 1                                 0   \n",
       "28                                 1                                 0   \n",
       "29                                 1                                 0   \n",
       "30                                 1                                 0   \n",
       "\n",
       "    bowling_team_Delhi Capitals  bowling_team_Kolkata Knight Riders  \\\n",
       "26                            0                                   0   \n",
       "27                            0                                   0   \n",
       "28                            0                                   0   \n",
       "29                            0                                   0   \n",
       "30                            0                                   0   \n",
       "\n",
       "    bowling_team_Mumbai Indians  bowling_team_Punjab Kings  \\\n",
       "26                            0                          0   \n",
       "27                            0                          0   \n",
       "28                            0                          0   \n",
       "29                            0                          0   \n",
       "30                            0                          0   \n",
       "\n",
       "    bowling_team_Rajasthan Royals  bowling_team_Royal Challengers Bangalore  \\\n",
       "26                              0                                         1   \n",
       "27                              0                                         1   \n",
       "28                              0                                         1   \n",
       "29                              0                                         1   \n",
       "30                              0                                         1   \n",
       "\n",
       "    bowling_team_Sunrisers Hyderabad  \n",
       "26                                 0  \n",
       "27                                 0  \n",
       "28                                 0  \n",
       "29                                 0  \n",
       "30                                 0  "
      ]
     },
     "execution_count": 28,
     "metadata": {},
     "output_type": "execute_result"
    }
   ],
   "source": [
    "X.head()"
   ]
  },
  {
   "cell_type": "code",
   "execution_count": 29,
   "metadata": {},
   "outputs": [
    {
     "data": {
      "text/plain": [
       "(102733, 33)"
      ]
     },
     "execution_count": 29,
     "metadata": {},
     "output_type": "execute_result"
    }
   ],
   "source": [
    "X.shape"
   ]
  },
  {
   "cell_type": "code",
   "execution_count": 30,
   "metadata": {},
   "outputs": [],
   "source": [
    "from sklearn.model_selection import train_test_split\n",
    "\n",
    "X_train, X_test, y_train, y_test = train_test_split(X, y, test_size=0.3)"
   ]
  },
  {
   "cell_type": "code",
   "execution_count": 31,
   "metadata": {},
   "outputs": [],
   "source": [
    "from sklearn.linear_model import Ridge\n",
    "from sklearn.model_selection import RandomizedSearchCV"
   ]
  },
  {
   "cell_type": "code",
   "execution_count": 32,
   "metadata": {},
   "outputs": [
    {
     "name": "stderr",
     "output_type": "stream",
     "text": [
      "C:\\Users\\lsani\\anaconda3\\envs\\iplscore\\lib\\site-packages\\sklearn\\model_selection\\_search.py:285: UserWarning: The total space of parameters 5 is smaller than n_iter=10. Running 5 iterations. For exhaustive searches, use GridSearchCV.\n",
      "  warnings.warn(\n"
     ]
    },
    {
     "data": {
      "text/plain": [
       "RandomizedSearchCV(cv=5, estimator=Ridge(),\n",
       "                   param_distributions={'alpha': [10, 20, 30, 40, 50]},\n",
       "                   scoring='neg_mean_squared_error')"
      ]
     },
     "execution_count": 32,
     "metadata": {},
     "output_type": "execute_result"
    }
   ],
   "source": [
    "ridge=Ridge()\n",
    "parameters={'alpha':[10,20,30,40,50]}\n",
    "ridge_regressor=RandomizedSearchCV(ridge,parameters,scoring='neg_mean_squared_error',cv=5)\n",
    "ridge_regressor.fit(X_train,y_train)"
   ]
  },
  {
   "cell_type": "code",
   "execution_count": 33,
   "metadata": {},
   "outputs": [
    {
     "data": {
      "text/plain": [
       "{'alpha': 40}"
      ]
     },
     "execution_count": 33,
     "metadata": {},
     "output_type": "execute_result"
    }
   ],
   "source": [
    "ridge_regressor.best_params_"
   ]
  },
  {
   "cell_type": "code",
   "execution_count": 34,
   "metadata": {},
   "outputs": [
    {
     "data": {
      "text/plain": [
       "-649.7336122666044"
      ]
     },
     "execution_count": 34,
     "metadata": {},
     "output_type": "execute_result"
    }
   ],
   "source": [
    "ridge_regressor.best_score_"
   ]
  },
  {
   "cell_type": "code",
   "execution_count": 35,
   "metadata": {},
   "outputs": [],
   "source": [
    "prediction = ridge_regressor.predict(X_test)"
   ]
  },
  {
   "cell_type": "code",
   "execution_count": 36,
   "metadata": {},
   "outputs": [
    {
     "name": "stderr",
     "output_type": "stream",
     "text": [
      "C:\\Users\\lsani\\anaconda3\\envs\\iplscore\\lib\\site-packages\\seaborn\\distributions.py:2557: FutureWarning: `distplot` is a deprecated function and will be removed in a future version. Please adapt your code to use either `displot` (a figure-level function with similar flexibility) or `histplot` (an axes-level function for histograms).\n",
      "  warnings.warn(msg, FutureWarning)\n"
     ]
    },
    {
     "data": {
      "text/plain": [
       "<AxesSubplot:xlabel='innings_total', ylabel='Density'>"
      ]
     },
     "execution_count": 36,
     "metadata": {},
     "output_type": "execute_result"
    },
    {
     "data": {
      "image/png": "[encoded data removed]",
      "text/plain": [
       "<Figure size 432x288 with 1 Axes>"
      ]
     },
     "metadata": {
      "needs_background": "light"
     },
     "output_type": "display_data"
    }
   ],
   "source": [
    "sns.distplot(y_test-prediction)"
   ]
  },
  {
   "cell_type": "code",
   "execution_count": 37,
   "metadata": {},
   "outputs": [
    {
     "data": {
      "text/plain": [
       "<matplotlib.collections.PathCollection at 0x1d24ee818b0>"
      ]
     },
     "execution_count": 37,
     "metadata": {},
     "output_type": "execute_result"
    },
    {
     "data": {
      "image/png": "[encoded data removed]",
      "text/plain": [
       "<Figure size 432x288 with 1 Axes>"
      ]
     },
     "metadata": {
      "needs_background": "light"
     },
     "output_type": "display_data"
    }
   ],
   "source": [
    "plt.scatter(prediction,y_test)"
   ]
  },
  {
   "cell_type": "code",
   "execution_count": 38,
   "metadata": {},
   "outputs": [
    {
     "name": "stdout",
     "output_type": "stream",
     "text": [
      "MAE :  19.968850904691543\n",
      "MSE :  656.6231828980059\n",
      "RMSE :  25.624659664042486\n",
      "R SQUARED :  0.28\n"
     ]
    }
   ],
   "source": [
    "print('MAE : ',metrics.mean_absolute_error(y_test,prediction))\n",
    "print('MSE : ',metrics.mean_squared_error(y_test,prediction))\n",
    "print('RMSE : ',np.sqrt(metrics.mean_squared_error(y_test,prediction)))\n",
    "print('R SQUARED : ',round(metrics.r2_score(y_test,prediction),2))"
   ]
  },
  {
   "cell_type": "code",
   "execution_count": 39,
   "metadata": {},
   "outputs": [],
   "source": [
    "from sklearn.linear_model import LinearRegression\n",
    "from sklearn.ensemble import RandomForestRegressor"
   ]
  },
  {
   "cell_type": "code",
   "execution_count": 40,
   "metadata": {},
   "outputs": [
    {
     "name": "stderr",
     "output_type": "stream",
     "text": [
      "C:\\Users\\lsani\\anaconda3\\envs\\iplscore\\lib\\site-packages\\seaborn\\distributions.py:2557: FutureWarning: `distplot` is a deprecated function and will be removed in a future version. Please adapt your code to use either `displot` (a figure-level function with similar flexibility) or `histplot` (an axes-level function for histograms).\n",
      "  warnings.warn(msg, FutureWarning)\n"
     ]
    },
    {
     "name": "stdout",
     "output_type": "stream",
     "text": [
      "MAE :  19.969715125834608\n",
      "MSE :  656.6408068709093\n",
      "RMSE :  25.625003548700423\n",
      "R SQUARED :  0.28\n"
     ]
    },
    {
     "data": {
      "image/png": "[encoded data removed]",
      "text/plain": [
       "<Figure size 432x288 with 1 Axes>"
      ]
     },
     "metadata": {
      "needs_background": "light"
     },
     "output_type": "display_data"
    }
   ],
   "source": [
    "lr = LinearRegression()\n",
    "lr.fit(X_train,y_train)\n",
    "prediction = lr.predict(X_test)\n",
    "sns.distplot(y_test-prediction)\n",
    "print('MAE : ',metrics.mean_absolute_error(y_test,prediction))\n",
    "print('MSE : ',metrics.mean_squared_error(y_test,prediction))\n",
    "print('RMSE : ',np.sqrt(metrics.mean_squared_error(y_test,prediction)))\n",
    "print('R SQUARED : ',round(metrics.r2_score(y_test,prediction),2))"
   ]
  },
  {
   "cell_type": "code",
   "execution_count": 41,
   "metadata": {},
   "outputs": [],
   "source": [
    "pickle.dump(ridge_regressor, open('ipl_model.pkl','wb'))"
   ]
  },
  {
   "cell_type": "code",
   "execution_count": 47,
   "metadata": {},
   "outputs": [
    {
     "data": {
      "text/plain": [
       "array([196.23832323])"
      ]
     },
     "execution_count": 47,
     "metadata": {},
     "output_type": "execute_result"
    }
   ],
   "source": [
    "p = np.array([16,160,2,56,0,0,0,0,1,0,0,0,0,0,0,0,0,0,0,0,0,0,0,1,0,1,0,0,0,0,0,0,0])\n",
    "ridge_regressor.predict([p])"
   ]
  },
  {
   "cell_type": "code",
   "execution_count": null,
   "metadata": {},
   "outputs": [],
   "source": []
  }
 ],
 "metadata": {
  "kernelspec": {
   "display_name": "Python 3",
   "language": "python",
   "name": "python3"
  },
  "language_info": {
   "codemirror_mode": {
    "name": "ipython",
    "version": 3
   },
   "file_extension": ".py",
   "mimetype": "text/x-python",
   "name": "python",
   "nbconvert_exporter": "python",
   "pygments_lexer": "ipython3",
   "version": "3.9.2"
  }
 },
 "nbformat": 4,
 "nbformat_minor": 4
}
